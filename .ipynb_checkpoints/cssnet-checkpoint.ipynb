{
 "cells": [
  {
   "cell_type": "code",
   "execution_count": 1,
   "metadata": {
    "collapsed": true
   },
   "outputs": [],
   "source": [
    "import numpy as np\n",
    "import neurolab as nl"
   ]
  },
  {
   "cell_type": "code",
   "execution_count": 2,
   "metadata": {
    "collapsed": true
   },
   "outputs": [],
   "source": [
    "input = np.random.uniform(-0.5, 0.5, (10, 2))"
   ]
  },
  {
   "cell_type": "code",
   "execution_count": 68,
   "metadata": {
    "collapsed": false
   },
   "outputs": [],
   "source": [
    "colors = [[\"AliceBlue\",\"#F0F8FF\"],[\"AntiqueWhite\",\"#FAEBD7\"],[\"Aqua\",\"#00FFFF\"],[\"Aquamarine\",\"#7FFFD4\"],[\"Azure\",\"#F0FFFF\"],[\"Beige\",\"#F5F5DC\"],[\"Bisque\",\"#FFE4C4\"],[\"Black\",\"#000000\"],[\"BlanchedAlmond\",\"#FFEBCD\"],[\"Blue\",\"#0000FF\"],[\"BlueViolet\",\"#8A2BE2\"],[\"Brown\",\"#A52A2A\"],[\"BurlyWood\",\"#DEB887\"],[\"CadetBlue\",\"#5F9EA0\"],[\"Chartreuse\",\"#7FFF00\"],[\"Chocolate\",\"#D2691E\"],[\"Coral\",\"#FF7F50\"],[\"CornflowerBlue\",\"#6495ED\"],[\"Cornsilk\",\"#FFF8DC\"],[\"Crimson\",\"#DC143C\"],[\"Cyan\",\"#00FFFF\"],[\"DarkBlue\",\"#00008B\"],[\"DarkCyan\",\"#008B8B\"],[\"DarkGoldenRod\",\"#B8860B\"],[\"DarkGray\",\"#A9A9A9\"],[\"DarkGrey\",\"#A9A9A9\"],[\"DarkGreen\",\"#006400\"],[\"DarkKhaki\",\"#BDB76B\"],[\"DarkMagenta\",\"#8B008B\"],[\"DarkOliveGreen\",\"#556B2F\"],[\"Darkorange\",\"#FF8C00\"],[\"DarkOrchid\",\"#9932CC\"],[\"DarkRed\",\"#8B0000\"],[\"DarkSalmon\",\"#E9967A\"],[\"DarkSeaGreen\",\"#8FBC8F\"],[\"DarkSlateBlue\",\"#483D8B\"],[\"DarkSlateGray\",\"#2F4F4F\"],[\"DarkSlateGrey\",\"#2F4F4F\"],[\"DarkTurquoise\",\"#00CED1\"],[\"DarkViolet\",\"#9400D3\"],[\"DeepPink\",\"#FF1493\"],[\"DeepSkyBlue\",\"#00BFFF\"],[\"DimGray\",\"#696969\"],[\"DimGrey\",\"#696969\"],[\"DodgerBlue\",\"#1E90FF\"],[\"FireBrick\",\"#B22222\"],[\"FloralWhite\",\"#FFFAF0\"],[\"ForestGreen\",\"#228B22\"],[\"Fuchsia\",\"#FF00FF\"],[\"Gainsboro\",\"#DCDCDC\"],[\"GhostWhite\",\"#F8F8FF\"],[\"Gold\",\"#FFD700\"],[\"GoldenRod\",\"#DAA520\"],[\"Gray\",\"#808080\"],[\"Grey\",\"#808080\"],[\"Green\",\"#008000\"],[\"GreenYellow\",\"#ADFF2F\"],[\"HoneyDew\",\"#F0FFF0\"],[\"HotPink\",\"#FF69B4\"],[\"IndianRed\",\"#CD5C5C\"],[\"Indigo\",\"#4B0082\"],[\"Ivory\",\"#FFFFF0\"],[\"Khaki\",\"#F0E68C\"],[\"Lavender\",\"#E6E6FA\"],[\"LavenderBlush\",\"#FFF0F5\"],[\"LawnGreen\",\"#7CFC00\"],[\"LemonChiffon\",\"#FFFACD\"],[\"LightBlue\",\"#ADD8E6\"],[\"LightCoral\",\"#F08080\"],[\"LightCyan\",\"#E0FFFF\"],[\"LightGoldenRodYellow\",\"#FAFAD2\"],[\"LightGray\",\"#D3D3D3\"],[\"LightGrey\",\"#D3D3D3\"],[\"LightGreen\",\"#90EE90\"],[\"LightPink\",\"#FFB6C1\"],[\"LightSalmon\",\"#FFA07A\"],[\"LightSeaGreen\",\"#20B2AA\"],[\"LightSkyBlue\",\"#87CEFA\"],[\"LightSlateGray\",\"#778899\"],[\"LightSlateGrey\",\"#778899\"],[\"LightSteelBlue\",\"#B0C4DE\"],[\"LightYellow\",\"#FFFFE0\"],[\"Lime\",\"#00FF00\"],[\"LimeGreen\",\"#32CD32\"],[\"Linen\",\"#FAF0E6\"],[\"Magenta\",\"#FF00FF\"],[\"Maroon\",\"#800000\"],[\"MediumAquaMarine\",\"#66CDAA\"],[\"MediumBlue\",\"#0000CD\"],[\"MediumOrchid\",\"#BA55D3\"],[\"MediumPurple\",\"#9370D8\"],[\"MediumSeaGreen\",\"#3CB371\"],[\"MediumSlateBlue\",\"#7B68EE\"],[\"MediumSpringGreen\",\"#00FA9A\"],[\"MediumTurquoise\",\"#48D1CC\"],[\"MediumVioletRed\",\"#C71585\"],[\"MidnightBlue\",\"#191970\"],[\"MintCream\",\"#F5FFFA\"],[\"MistyRose\",\"#FFE4E1\"],[\"Moccasin\",\"#FFE4B5\"],[\"NavajoWhite\",\"#FFDEAD\"],[\"Navy\",\"#000080\"],[\"OldLace\",\"#FDF5E6\"],[\"Olive\",\"#808000\"],[\"OliveDrab\",\"#6B8E23\"],[\"Orange\",\"#FFA500\"],[\"OrangeRed\",\"#FF4500\"],[\"Orchid\",\"#DA70D6\"],[\"PaleGoldenRod\",\"#EEE8AA\"],[\"PaleGreen\",\"#98FB98\"],[\"PaleTurquoise\",\"#AFEEEE\"],[\"PaleVioletRed\",\"#D87093\"],[\"PapayaWhip\",\"#FFEFD5\"],[\"PeachPuff\",\"#FFDAB9\"],[\"Peru\",\"#CD853F\"],[\"Pink\",\"#FFC0CB\"],[\"Plum\",\"#DDA0DD\"],[\"PowderBlue\",\"#B0E0E6\"],[\"Purple\",\"#800080\"],[\"Red\",\"#FF0000\"],[\"RosyBrown\",\"#BC8F8F\"],[\"RoyalBlue\",\"#4169E1\"],[\"SaddleBrown\",\"#8B4513\"],[\"Salmon\",\"#FA8072\"],[\"SandyBrown\",\"#F4A460\"],[\"SeaGreen\",\"#2E8B57\"],[\"SeaShell\",\"#FFF5EE\"],[\"Sienna\",\"#A0522D\"],[\"Silver\",\"#C0C0C0\"],[\"SkyBlue\",\"#87CEEB\"],[\"SlateBlue\",\"#6A5ACD\"],[\"SlateGray\",\"#708090\"],[\"SlateGrey\",\"#708090\"],[\"Snow\",\"#FFFAFA\"],[\"SpringGreen\",\"#00FF7F\"],[\"SteelBlue\",\"#4682B4\"],[\"Tan\",\"#D2B48C\"],[\"Teal\",\"#008080\"],[\"Thistle\",\"#D8BFD8\"],[\"Tomato\",\"#FF6347\"],[\"Turquoise\",\"#40E0D0\"],[\"Violet\",\"#EE82EE\"],[\"Wheat\",\"#F5DEB3\"],[\"White\",\"#FFFFFF\"],[\"WhiteSmoke\",\"#F5F5F5\"],[\"Yellow\",\"#FFFF00\"],[\"YellowGreen\",\"#9ACD32\"]]"
   ]
  },
  {
   "cell_type": "code",
   "execution_count": 69,
   "metadata": {
    "collapsed": false
   },
   "outputs": [
    {
     "data": {
      "text/plain": [
       "7"
      ]
     },
     "execution_count": 69,
     "metadata": {},
     "output_type": "execute_result"
    }
   ],
   "source": [
    "max([len(s[1]) for s in colors])"
   ]
  },
  {
   "cell_type": "code",
   "execution_count": 159,
   "metadata": {
    "collapsed": false
   },
   "outputs": [],
   "source": [
    "def vecfromcolor(c):\n",
    "    ret = np.zeros(20)\n",
    "    j = 0\n",
    "    for i in range(20):\n",
    "        h = c[i%len(c)]\n",
    "        ret[i] = (ord(h.lower()) - ord('a')) / float(ord('z'))\n",
    "    return ret\n"
   ]
  },
  {
   "cell_type": "code",
   "execution_count": 185,
   "metadata": {
    "collapsed": false
   },
   "outputs": [],
   "source": [
    "def vecfromhex(c):\n",
    "    ret = np.zeros(3)\n",
    "    ret[0] = int(c[1:3], 16) / float(int('ff', 16)) \n",
    "    ret[1] = int(c[3:5], 16) / float(int('ff', 16))\n",
    "    ret[2] = int(c[5:7], 16) / float(int('ff', 16))\n",
    "    return ret\n",
    "\n",
    "\n",
    "\n",
    "def hexfromvec(v):\n",
    "    return 'rgb('+','.join([str(int(min( max( round(255*c), 0), 255))) for c in v])+')'"
   ]
  },
  {
   "cell_type": "code",
   "execution_count": 186,
   "metadata": {
    "collapsed": false
   },
   "outputs": [
    {
     "data": {
      "text/plain": [
       "'rgb(187.0,161.0,35.0)'"
      ]
     },
     "execution_count": 186,
     "metadata": {},
     "output_type": "execute_result"
    }
   ],
   "source": [
    "hexfromvec(vecfromhex('#bba123'))"
   ]
  },
  {
   "cell_type": "code",
   "execution_count": 173,
   "metadata": {
    "collapsed": false
   },
   "outputs": [],
   "source": [
    "target = np.array([vecfromhex(s[1]) for s in colors])\n",
    "input = np.array([vecfromcolor(s[0]) for s in colors])"
   ]
  },
  {
   "cell_type": "code",
   "execution_count": 174,
   "metadata": {
    "collapsed": false
   },
   "outputs": [
    {
     "data": {
      "text/plain": [
       "array([[ 0.        ,  0.09016393,  0.06557377, ...,  0.03278689,\n",
       "         0.        ,  0.09016393],\n",
       "       [ 0.        ,  0.10655738,  0.1557377 , ...,  0.16393443,\n",
       "         0.03278689,  0.18032787],\n",
       "       [ 0.        ,  0.13114754,  0.16393443, ...,  0.13114754,\n",
       "         0.16393443,  0.        ],\n",
       "       ..., \n",
       "       [ 0.18032787,  0.05737705,  0.06557377, ...,  0.1147541 ,\n",
       "         0.08196721,  0.03278689],\n",
       "       [ 0.19672131,  0.03278689,  0.09016393, ...,  0.18032787,\n",
       "         0.19672131,  0.03278689],\n",
       "       [ 0.19672131,  0.03278689,  0.09016393, ...,  0.04918033,\n",
       "         0.13934426,  0.03278689]])"
      ]
     },
     "execution_count": 174,
     "metadata": {},
     "output_type": "execute_result"
    }
   ],
   "source": [
    "input"
   ]
  },
  {
   "cell_type": "code",
   "execution_count": 164,
   "metadata": {
    "collapsed": false
   },
   "outputs": [],
   "source": [
    " net = nl.net.newff([[0, 1] for i in range(20)], [20, 10, 3])"
   ]
  },
  {
   "cell_type": "code",
   "execution_count": 165,
   "metadata": {
    "collapsed": false
   },
   "outputs": [
    {
     "name": "stdout",
     "output_type": "stream",
     "text": [
      "Epoch: 50; Error: 17.2492283607;\n",
      "Epoch: 100; Error: 9.91101490887;\n",
      "Epoch: 150; Error: 6.14502049511;\n",
      "Epoch: 200; Error: 3.98540172239;\n",
      "Epoch: 250; Error: 2.76666816188;\n",
      "Epoch: 300; Error: 1.88356994001;\n",
      "Epoch: 350; Error: 1.38625710835;\n",
      "Epoch: 400; Error: 0.969938846693;\n",
      "Epoch: 450; Error: 0.659133470711;\n",
      "Epoch: 500; Error: 0.541705716659;\n",
      "Epoch: 550; Error: 0.475983080519;\n",
      "Epoch: 600; Error: 0.435378187673;\n",
      "Epoch: 650; Error: 0.399580663973;\n",
      "Epoch: 700; Error: 0.368814697756;\n",
      "Epoch: 750; Error: 0.338922097017;\n",
      "Epoch: 800; Error: 0.312509323409;\n",
      "Epoch: 850; Error: 0.294822352768;\n",
      "Epoch: 900; Error: 0.275991587481;\n",
      "Epoch: 950; Error: 0.263114258372;\n",
      "Epoch: 1000; Error: 0.253885837836;\n",
      "Epoch: 1050; Error: 0.247946093303;\n",
      "Epoch: 1100; Error: 0.243700693586;\n",
      "Epoch: 1150; Error: 0.240248512796;\n",
      "Epoch: 1200; Error: 0.23743752264;\n",
      "Epoch: 1250; Error: 0.235023874184;\n",
      "Epoch: 1300; Error: 0.233171957169;\n",
      "Epoch: 1350; Error: 0.231136786614;\n",
      "Epoch: 1400; Error: 0.22973358588;\n",
      "Epoch: 1450; Error: 0.227947521884;\n",
      "Epoch: 1500; Error: 0.225329637992;\n",
      "Epoch: 1550; Error: 0.223806090871;\n",
      "Epoch: 1600; Error: 0.222836918755;\n",
      "Epoch: 1650; Error: 0.222086355665;\n"
     ]
    },
    {
     "ename": "KeyboardInterrupt",
     "evalue": "",
     "output_type": "error",
     "traceback": [
      "\u001b[0;31m---------------------------------------------------------------------------\u001b[0m",
      "\u001b[0;31mKeyboardInterrupt\u001b[0m                         Traceback (most recent call last)",
      "\u001b[0;32m<ipython-input-165-434e0f20465d>\u001b[0m in \u001b[0;36m<module>\u001b[0;34m()\u001b[0m\n\u001b[0;32m----> 1\u001b[0;31m \u001b[0merr\u001b[0m \u001b[0;34m=\u001b[0m \u001b[0mnet\u001b[0m\u001b[0;34m.\u001b[0m\u001b[0mtrain\u001b[0m\u001b[0;34m(\u001b[0m\u001b[0minput\u001b[0m\u001b[0;34m,\u001b[0m \u001b[0mtarget\u001b[0m\u001b[0;34m,\u001b[0m \u001b[0mshow\u001b[0m\u001b[0;34m=\u001b[0m\u001b[0;36m50\u001b[0m\u001b[0;34m,\u001b[0m \u001b[0mepochs\u001b[0m\u001b[0;34m=\u001b[0m\u001b[0;36m2000\u001b[0m\u001b[0;34m)\u001b[0m\u001b[0;34m\u001b[0m\u001b[0m\n\u001b[0m",
      "\u001b[0;32m/usr/local/lib/python2.7/site-packages/neurolab/core.pyc\u001b[0m in \u001b[0;36mtrain\u001b[0;34m(self, *args, **kwargs)\u001b[0m\n\u001b[1;32m    163\u001b[0m \u001b[0;34m\u001b[0m\u001b[0m\n\u001b[1;32m    164\u001b[0m         \"\"\"\n\u001b[0;32m--> 165\u001b[0;31m         \u001b[0;32mreturn\u001b[0m \u001b[0mself\u001b[0m\u001b[0;34m.\u001b[0m\u001b[0mtrainf\u001b[0m\u001b[0;34m(\u001b[0m\u001b[0mself\u001b[0m\u001b[0;34m,\u001b[0m \u001b[0;34m*\u001b[0m\u001b[0margs\u001b[0m\u001b[0;34m,\u001b[0m \u001b[0;34m**\u001b[0m\u001b[0mkwargs\u001b[0m\u001b[0;34m)\u001b[0m\u001b[0;34m\u001b[0m\u001b[0m\n\u001b[0m\u001b[1;32m    166\u001b[0m \u001b[0;34m\u001b[0m\u001b[0m\n\u001b[1;32m    167\u001b[0m     \u001b[0;32mdef\u001b[0m \u001b[0mreset\u001b[0m\u001b[0;34m(\u001b[0m\u001b[0mself\u001b[0m\u001b[0;34m)\u001b[0m\u001b[0;34m:\u001b[0m\u001b[0;34m\u001b[0m\u001b[0m\n",
      "\u001b[0;32m/usr/local/lib/python2.7/site-packages/neurolab/core.pyc\u001b[0m in \u001b[0;36m__call__\u001b[0;34m(self, net, input, target, **kwargs)\u001b[0m\n\u001b[1;32m    347\u001b[0m         \u001b[0mself\u001b[0m\u001b[0;34m.\u001b[0m\u001b[0merror\u001b[0m \u001b[0;34m=\u001b[0m \u001b[0;34m[\u001b[0m\u001b[0;34m]\u001b[0m\u001b[0;34m\u001b[0m\u001b[0m\n\u001b[1;32m    348\u001b[0m         \u001b[0;32mtry\u001b[0m\u001b[0;34m:\u001b[0m\u001b[0;34m\u001b[0m\u001b[0m\n\u001b[0;32m--> 349\u001b[0;31m             \u001b[0mtrain\u001b[0m\u001b[0;34m(\u001b[0m\u001b[0mnet\u001b[0m\u001b[0;34m,\u001b[0m \u001b[0;34m*\u001b[0m\u001b[0margs\u001b[0m\u001b[0;34m)\u001b[0m\u001b[0;34m\u001b[0m\u001b[0m\n\u001b[0m\u001b[1;32m    350\u001b[0m         \u001b[0;32mexcept\u001b[0m \u001b[0mTrainStop\u001b[0m \u001b[0;32mas\u001b[0m \u001b[0mmsg\u001b[0m\u001b[0;34m:\u001b[0m\u001b[0;34m\u001b[0m\u001b[0m\n\u001b[1;32m    351\u001b[0m             \u001b[0;32mif\u001b[0m \u001b[0mself\u001b[0m\u001b[0;34m.\u001b[0m\u001b[0mparams\u001b[0m\u001b[0;34m[\u001b[0m\u001b[0;34m'show'\u001b[0m\u001b[0;34m]\u001b[0m\u001b[0;34m:\u001b[0m\u001b[0;34m\u001b[0m\u001b[0m\n",
      "\u001b[0;32m/usr/local/lib/python2.7/site-packages/neurolab/train/spo.pyc\u001b[0m in \u001b[0;36m__call__\u001b[0;34m(self, net, input, target)\u001b[0m\n\u001b[1;32m     77\u001b[0m \u001b[0;34m\u001b[0m\u001b[0m\n\u001b[1;32m     78\u001b[0m         x = fmin_bfgs(self.fcn, self.x.copy(), fprime=self.grad, callback=self.step,\n\u001b[0;32m---> 79\u001b[0;31m                       **self.kwargs)\n\u001b[0m\u001b[1;32m     80\u001b[0m         \u001b[0mself\u001b[0m\u001b[0;34m.\u001b[0m\u001b[0mx\u001b[0m\u001b[0;34m[\u001b[0m\u001b[0;34m:\u001b[0m\u001b[0;34m]\u001b[0m \u001b[0;34m=\u001b[0m \u001b[0mx\u001b[0m\u001b[0;34m\u001b[0m\u001b[0m\n\u001b[1;32m     81\u001b[0m \u001b[0;34m\u001b[0m\u001b[0m\n",
      "\u001b[0;32m/usr/local/lib/python2.7/site-packages/scipy/optimize/optimize.pyc\u001b[0m in \u001b[0;36mfmin_bfgs\u001b[0;34m(f, x0, fprime, args, gtol, norm, epsilon, maxiter, full_output, disp, retall, callback)\u001b[0m\n\u001b[1;32m    780\u001b[0m             'return_all': retall}\n\u001b[1;32m    781\u001b[0m \u001b[0;34m\u001b[0m\u001b[0m\n\u001b[0;32m--> 782\u001b[0;31m     \u001b[0mres\u001b[0m \u001b[0;34m=\u001b[0m \u001b[0m_minimize_bfgs\u001b[0m\u001b[0;34m(\u001b[0m\u001b[0mf\u001b[0m\u001b[0;34m,\u001b[0m \u001b[0mx0\u001b[0m\u001b[0;34m,\u001b[0m \u001b[0margs\u001b[0m\u001b[0;34m,\u001b[0m \u001b[0mfprime\u001b[0m\u001b[0;34m,\u001b[0m \u001b[0mcallback\u001b[0m\u001b[0;34m=\u001b[0m\u001b[0mcallback\u001b[0m\u001b[0;34m,\u001b[0m \u001b[0;34m**\u001b[0m\u001b[0mopts\u001b[0m\u001b[0;34m)\u001b[0m\u001b[0;34m\u001b[0m\u001b[0m\n\u001b[0m\u001b[1;32m    783\u001b[0m \u001b[0;34m\u001b[0m\u001b[0m\n\u001b[1;32m    784\u001b[0m     \u001b[0;32mif\u001b[0m \u001b[0mfull_output\u001b[0m\u001b[0;34m:\u001b[0m\u001b[0;34m\u001b[0m\u001b[0m\n",
      "\u001b[0;32m/usr/local/lib/python2.7/site-packages/scipy/optimize/optimize.pyc\u001b[0m in \u001b[0;36m_minimize_bfgs\u001b[0;34m(fun, x0, args, jac, callback, gtol, norm, eps, maxiter, disp, return_all, **unknown_options)\u001b[0m\n\u001b[1;32m    853\u001b[0m             \u001b[0malpha_k\u001b[0m\u001b[0;34m,\u001b[0m \u001b[0mfc\u001b[0m\u001b[0;34m,\u001b[0m \u001b[0mgc\u001b[0m\u001b[0;34m,\u001b[0m \u001b[0mold_fval\u001b[0m\u001b[0;34m,\u001b[0m \u001b[0mold_old_fval\u001b[0m\u001b[0;34m,\u001b[0m \u001b[0mgfkp1\u001b[0m \u001b[0;34m=\u001b[0m\u001b[0;31m \u001b[0m\u001b[0;31m\\\u001b[0m\u001b[0;34m\u001b[0m\u001b[0m\n\u001b[1;32m    854\u001b[0m                      _line_search_wolfe12(f, myfprime, xk, pk, gfk,\n\u001b[0;32m--> 855\u001b[0;31m                                           old_fval, old_old_fval)\n\u001b[0m\u001b[1;32m    856\u001b[0m         \u001b[0;32mexcept\u001b[0m \u001b[0m_LineSearchError\u001b[0m\u001b[0;34m:\u001b[0m\u001b[0;34m\u001b[0m\u001b[0m\n\u001b[1;32m    857\u001b[0m             \u001b[0;31m# Line search failed to find a better solution.\u001b[0m\u001b[0;34m\u001b[0m\u001b[0;34m\u001b[0m\u001b[0m\n",
      "\u001b[0;32m/usr/local/lib/python2.7/site-packages/scipy/optimize/optimize.pyc\u001b[0m in \u001b[0;36m_line_search_wolfe12\u001b[0;34m(f, fprime, xk, pk, gfk, old_fval, old_old_fval, **kwargs)\u001b[0m\n\u001b[1;32m    688\u001b[0m     ret = line_search_wolfe1(f, fprime, xk, pk, gfk,\n\u001b[1;32m    689\u001b[0m                              \u001b[0mold_fval\u001b[0m\u001b[0;34m,\u001b[0m \u001b[0mold_old_fval\u001b[0m\u001b[0;34m,\u001b[0m\u001b[0;34m\u001b[0m\u001b[0m\n\u001b[0;32m--> 690\u001b[0;31m                              **kwargs)\n\u001b[0m\u001b[1;32m    691\u001b[0m \u001b[0;34m\u001b[0m\u001b[0m\n\u001b[1;32m    692\u001b[0m     \u001b[0;32mif\u001b[0m \u001b[0mret\u001b[0m\u001b[0;34m[\u001b[0m\u001b[0;36m0\u001b[0m\u001b[0;34m]\u001b[0m \u001b[0;32mis\u001b[0m \u001b[0mNone\u001b[0m\u001b[0;34m:\u001b[0m\u001b[0;34m\u001b[0m\u001b[0m\n",
      "\u001b[0;32m/usr/local/lib/python2.7/site-packages/scipy/optimize/linesearch.pyc\u001b[0m in \u001b[0;36mline_search_wolfe1\u001b[0;34m(f, fprime, xk, pk, gfk, old_fval, old_old_fval, args, c1, c2, amax, amin, xtol)\u001b[0m\n\u001b[1;32m     94\u001b[0m     stp, fval, old_fval = scalar_search_wolfe1(\n\u001b[1;32m     95\u001b[0m             \u001b[0mphi\u001b[0m\u001b[0;34m,\u001b[0m \u001b[0mderphi\u001b[0m\u001b[0;34m,\u001b[0m \u001b[0mold_fval\u001b[0m\u001b[0;34m,\u001b[0m \u001b[0mold_old_fval\u001b[0m\u001b[0;34m,\u001b[0m \u001b[0mderphi0\u001b[0m\u001b[0;34m,\u001b[0m\u001b[0;34m\u001b[0m\u001b[0m\n\u001b[0;32m---> 96\u001b[0;31m             c1=c1, c2=c2, amax=amax, amin=amin, xtol=xtol)\n\u001b[0m\u001b[1;32m     97\u001b[0m \u001b[0;34m\u001b[0m\u001b[0m\n\u001b[1;32m     98\u001b[0m     \u001b[0;32mreturn\u001b[0m \u001b[0mstp\u001b[0m\u001b[0;34m,\u001b[0m \u001b[0mfc\u001b[0m\u001b[0;34m[\u001b[0m\u001b[0;36m0\u001b[0m\u001b[0;34m]\u001b[0m\u001b[0;34m,\u001b[0m \u001b[0mgc\u001b[0m\u001b[0;34m[\u001b[0m\u001b[0;36m0\u001b[0m\u001b[0;34m]\u001b[0m\u001b[0;34m,\u001b[0m \u001b[0mfval\u001b[0m\u001b[0;34m,\u001b[0m \u001b[0mold_fval\u001b[0m\u001b[0;34m,\u001b[0m \u001b[0mgval\u001b[0m\u001b[0;34m[\u001b[0m\u001b[0;36m0\u001b[0m\u001b[0;34m]\u001b[0m\u001b[0;34m\u001b[0m\u001b[0m\n",
      "\u001b[0;32m/usr/local/lib/python2.7/site-packages/scipy/optimize/linesearch.pyc\u001b[0m in \u001b[0;36mscalar_search_wolfe1\u001b[0;34m(phi, derphi, phi0, old_phi0, derphi0, c1, c2, amax, amin, xtol)\u001b[0m\n\u001b[1;32m    165\u001b[0m         \u001b[0;32mif\u001b[0m \u001b[0mtask\u001b[0m\u001b[0;34m[\u001b[0m\u001b[0;34m:\u001b[0m\u001b[0;36m2\u001b[0m\u001b[0;34m]\u001b[0m \u001b[0;34m==\u001b[0m \u001b[0;34mb'FG'\u001b[0m\u001b[0;34m:\u001b[0m\u001b[0;34m\u001b[0m\u001b[0m\n\u001b[1;32m    166\u001b[0m             \u001b[0malpha1\u001b[0m \u001b[0;34m=\u001b[0m \u001b[0mstp\u001b[0m\u001b[0;34m\u001b[0m\u001b[0m\n\u001b[0;32m--> 167\u001b[0;31m             \u001b[0mphi1\u001b[0m \u001b[0;34m=\u001b[0m \u001b[0mphi\u001b[0m\u001b[0;34m(\u001b[0m\u001b[0mstp\u001b[0m\u001b[0;34m)\u001b[0m\u001b[0;34m\u001b[0m\u001b[0m\n\u001b[0m\u001b[1;32m    168\u001b[0m             \u001b[0mderphi1\u001b[0m \u001b[0;34m=\u001b[0m \u001b[0mderphi\u001b[0m\u001b[0;34m(\u001b[0m\u001b[0mstp\u001b[0m\u001b[0;34m)\u001b[0m\u001b[0;34m\u001b[0m\u001b[0m\n\u001b[1;32m    169\u001b[0m         \u001b[0;32melse\u001b[0m\u001b[0;34m:\u001b[0m\u001b[0;34m\u001b[0m\u001b[0m\n",
      "\u001b[0;32m/usr/local/lib/python2.7/site-packages/scipy/optimize/linesearch.pyc\u001b[0m in \u001b[0;36mphi\u001b[0;34m(s)\u001b[0m\n\u001b[1;32m     80\u001b[0m     \u001b[0;32mdef\u001b[0m \u001b[0mphi\u001b[0m\u001b[0;34m(\u001b[0m\u001b[0ms\u001b[0m\u001b[0;34m)\u001b[0m\u001b[0;34m:\u001b[0m\u001b[0;34m\u001b[0m\u001b[0m\n\u001b[1;32m     81\u001b[0m         \u001b[0mfc\u001b[0m\u001b[0;34m[\u001b[0m\u001b[0;36m0\u001b[0m\u001b[0;34m]\u001b[0m \u001b[0;34m+=\u001b[0m \u001b[0;36m1\u001b[0m\u001b[0;34m\u001b[0m\u001b[0m\n\u001b[0;32m---> 82\u001b[0;31m         \u001b[0;32mreturn\u001b[0m \u001b[0mf\u001b[0m\u001b[0;34m(\u001b[0m\u001b[0mxk\u001b[0m \u001b[0;34m+\u001b[0m \u001b[0ms\u001b[0m\u001b[0;34m*\u001b[0m\u001b[0mpk\u001b[0m\u001b[0;34m,\u001b[0m \u001b[0;34m*\u001b[0m\u001b[0margs\u001b[0m\u001b[0;34m)\u001b[0m\u001b[0;34m\u001b[0m\u001b[0m\n\u001b[0m\u001b[1;32m     83\u001b[0m \u001b[0;34m\u001b[0m\u001b[0m\n\u001b[1;32m     84\u001b[0m     \u001b[0;32mdef\u001b[0m \u001b[0mderphi\u001b[0m\u001b[0;34m(\u001b[0m\u001b[0ms\u001b[0m\u001b[0;34m)\u001b[0m\u001b[0;34m:\u001b[0m\u001b[0;34m\u001b[0m\u001b[0m\n",
      "\u001b[0;32m/usr/local/lib/python2.7/site-packages/scipy/optimize/optimize.pyc\u001b[0m in \u001b[0;36mfunction_wrapper\u001b[0;34m(*wrapper_args)\u001b[0m\n\u001b[1;32m    280\u001b[0m     \u001b[0;32mdef\u001b[0m \u001b[0mfunction_wrapper\u001b[0m\u001b[0;34m(\u001b[0m\u001b[0;34m*\u001b[0m\u001b[0mwrapper_args\u001b[0m\u001b[0;34m)\u001b[0m\u001b[0;34m:\u001b[0m\u001b[0;34m\u001b[0m\u001b[0m\n\u001b[1;32m    281\u001b[0m         \u001b[0mncalls\u001b[0m\u001b[0;34m[\u001b[0m\u001b[0;36m0\u001b[0m\u001b[0;34m]\u001b[0m \u001b[0;34m+=\u001b[0m \u001b[0;36m1\u001b[0m\u001b[0;34m\u001b[0m\u001b[0m\n\u001b[0;32m--> 282\u001b[0;31m         \u001b[0;32mreturn\u001b[0m \u001b[0mfunction\u001b[0m\u001b[0;34m(\u001b[0m\u001b[0;34m*\u001b[0m\u001b[0;34m(\u001b[0m\u001b[0mwrapper_args\u001b[0m \u001b[0;34m+\u001b[0m \u001b[0margs\u001b[0m\u001b[0;34m)\u001b[0m\u001b[0;34m)\u001b[0m\u001b[0;34m\u001b[0m\u001b[0m\n\u001b[0m\u001b[1;32m    283\u001b[0m \u001b[0;34m\u001b[0m\u001b[0m\n\u001b[1;32m    284\u001b[0m     \u001b[0;32mreturn\u001b[0m \u001b[0mncalls\u001b[0m\u001b[0;34m,\u001b[0m \u001b[0mfunction_wrapper\u001b[0m\u001b[0;34m\u001b[0m\u001b[0m\n",
      "\u001b[0;32m/usr/local/lib/python2.7/site-packages/neurolab/train/spo.pyc\u001b[0m in \u001b[0;36mfcn\u001b[0;34m(self, x)\u001b[0m\n\u001b[1;32m     33\u001b[0m     \u001b[0;32mdef\u001b[0m \u001b[0mfcn\u001b[0m\u001b[0;34m(\u001b[0m\u001b[0mself\u001b[0m\u001b[0;34m,\u001b[0m \u001b[0mx\u001b[0m\u001b[0;34m)\u001b[0m\u001b[0;34m:\u001b[0m\u001b[0;34m\u001b[0m\u001b[0m\n\u001b[1;32m     34\u001b[0m         \u001b[0mself\u001b[0m\u001b[0;34m.\u001b[0m\u001b[0mx\u001b[0m\u001b[0;34m[\u001b[0m\u001b[0;34m:\u001b[0m\u001b[0;34m]\u001b[0m \u001b[0;34m=\u001b[0m \u001b[0mx\u001b[0m\u001b[0;34m\u001b[0m\u001b[0m\n\u001b[0;32m---> 35\u001b[0;31m         \u001b[0merr\u001b[0m \u001b[0;34m=\u001b[0m \u001b[0mself\u001b[0m\u001b[0;34m.\u001b[0m\u001b[0merror\u001b[0m\u001b[0;34m(\u001b[0m\u001b[0mself\u001b[0m\u001b[0;34m.\u001b[0m\u001b[0mnet\u001b[0m\u001b[0;34m,\u001b[0m \u001b[0mself\u001b[0m\u001b[0;34m.\u001b[0m\u001b[0minput\u001b[0m\u001b[0;34m,\u001b[0m \u001b[0mself\u001b[0m\u001b[0;34m.\u001b[0m\u001b[0mtarget\u001b[0m\u001b[0;34m)\u001b[0m\u001b[0;34m\u001b[0m\u001b[0m\n\u001b[0m\u001b[1;32m     36\u001b[0m         \u001b[0;32mif\u001b[0m \u001b[0mself\u001b[0m\u001b[0;34m.\u001b[0m\u001b[0mrr\u001b[0m\u001b[0;34m:\u001b[0m\u001b[0;34m\u001b[0m\u001b[0m\n\u001b[1;32m     37\u001b[0m             \u001b[0meee\u001b[0m \u001b[0;34m=\u001b[0m \u001b[0mtool\u001b[0m\u001b[0;34m.\u001b[0m\u001b[0mreg_error\u001b[0m\u001b[0;34m(\u001b[0m\u001b[0merr\u001b[0m\u001b[0;34m,\u001b[0m \u001b[0mself\u001b[0m\u001b[0;34m.\u001b[0m\u001b[0mnet\u001b[0m\u001b[0;34m,\u001b[0m \u001b[0mself\u001b[0m\u001b[0;34m.\u001b[0m\u001b[0mrr\u001b[0m\u001b[0;34m)\u001b[0m\u001b[0;34m\u001b[0m\u001b[0m\n",
      "\u001b[0;32m/usr/local/lib/python2.7/site-packages/neurolab/core.pyc\u001b[0m in \u001b[0;36merror\u001b[0;34m(self, net, input, target, output)\u001b[0m\n\u001b[1;32m    373\u001b[0m         \u001b[0;34m\"\"\"Only for train with teacher\"\"\"\u001b[0m\u001b[0;34m\u001b[0m\u001b[0m\n\u001b[1;32m    374\u001b[0m         \u001b[0;32mif\u001b[0m \u001b[0moutput\u001b[0m \u001b[0;32mis\u001b[0m \u001b[0mNone\u001b[0m\u001b[0;34m:\u001b[0m\u001b[0;34m\u001b[0m\u001b[0m\n\u001b[0;32m--> 375\u001b[0;31m             \u001b[0moutput\u001b[0m \u001b[0;34m=\u001b[0m \u001b[0mnet\u001b[0m\u001b[0;34m.\u001b[0m\u001b[0msim\u001b[0m\u001b[0;34m(\u001b[0m\u001b[0minput\u001b[0m\u001b[0;34m)\u001b[0m\u001b[0;34m\u001b[0m\u001b[0m\n\u001b[0m\u001b[1;32m    376\u001b[0m         \u001b[0;32mreturn\u001b[0m \u001b[0mnet\u001b[0m\u001b[0;34m.\u001b[0m\u001b[0merrorf\u001b[0m\u001b[0;34m(\u001b[0m\u001b[0mtarget\u001b[0m\u001b[0;34m,\u001b[0m \u001b[0moutput\u001b[0m\u001b[0;34m)\u001b[0m\u001b[0;34m\u001b[0m\u001b[0m\n",
      "\u001b[0;32m/usr/local/lib/python2.7/site-packages/neurolab/core.pyc\u001b[0m in \u001b[0;36msim\u001b[0;34m(self, input)\u001b[0m\n\u001b[1;32m    145\u001b[0m \u001b[0;34m\u001b[0m\u001b[0m\n\u001b[1;32m    146\u001b[0m         \u001b[0;32mfor\u001b[0m \u001b[0minp_num\u001b[0m\u001b[0;34m,\u001b[0m \u001b[0minp\u001b[0m \u001b[0;32min\u001b[0m \u001b[0menumerate\u001b[0m\u001b[0;34m(\u001b[0m\u001b[0minput\u001b[0m\u001b[0;34m)\u001b[0m\u001b[0;34m:\u001b[0m\u001b[0;34m\u001b[0m\u001b[0m\n\u001b[0;32m--> 147\u001b[0;31m             \u001b[0moutput\u001b[0m\u001b[0;34m[\u001b[0m\u001b[0minp_num\u001b[0m\u001b[0;34m,\u001b[0m \u001b[0;34m:\u001b[0m\u001b[0;34m]\u001b[0m \u001b[0;34m=\u001b[0m \u001b[0mself\u001b[0m\u001b[0;34m.\u001b[0m\u001b[0mstep\u001b[0m\u001b[0;34m(\u001b[0m\u001b[0minp\u001b[0m\u001b[0;34m)\u001b[0m\u001b[0;34m\u001b[0m\u001b[0m\n\u001b[0m\u001b[1;32m    148\u001b[0m \u001b[0;34m\u001b[0m\u001b[0m\n\u001b[1;32m    149\u001b[0m         \u001b[0;32mreturn\u001b[0m \u001b[0moutput\u001b[0m\u001b[0;34m\u001b[0m\u001b[0m\n",
      "\u001b[0;32m/usr/local/lib/python2.7/site-packages/neurolab/core.pyc\u001b[0m in \u001b[0;36mstep\u001b[0;34m(self, inp)\u001b[0m\n\u001b[1;32m    123\u001b[0m                 \u001b[0msignal\u001b[0m \u001b[0;34m=\u001b[0m \u001b[0mself\u001b[0m\u001b[0;34m.\u001b[0m\u001b[0mlayers\u001b[0m\u001b[0;34m[\u001b[0m\u001b[0mns\u001b[0m\u001b[0;34m]\u001b[0m\u001b[0;34m.\u001b[0m\u001b[0mout\u001b[0m \u001b[0;32mif\u001b[0m \u001b[0mns\u001b[0m \u001b[0;34m!=\u001b[0m \u001b[0;34m-\u001b[0m\u001b[0;36m1\u001b[0m \u001b[0;32melse\u001b[0m \u001b[0minp\u001b[0m\u001b[0;34m\u001b[0m\u001b[0m\n\u001b[1;32m    124\u001b[0m             \u001b[0;32mif\u001b[0m \u001b[0mnl\u001b[0m \u001b[0;34m!=\u001b[0m \u001b[0mlen\u001b[0m\u001b[0;34m(\u001b[0m\u001b[0mself\u001b[0m\u001b[0;34m.\u001b[0m\u001b[0mlayers\u001b[0m\u001b[0;34m)\u001b[0m\u001b[0;34m:\u001b[0m\u001b[0;34m\u001b[0m\u001b[0m\n\u001b[0;32m--> 125\u001b[0;31m                 \u001b[0mself\u001b[0m\u001b[0;34m.\u001b[0m\u001b[0mlayers\u001b[0m\u001b[0;34m[\u001b[0m\u001b[0mnl\u001b[0m\u001b[0;34m]\u001b[0m\u001b[0;34m.\u001b[0m\u001b[0mstep\u001b[0m\u001b[0;34m(\u001b[0m\u001b[0msignal\u001b[0m\u001b[0;34m)\u001b[0m\u001b[0;34m\u001b[0m\u001b[0m\n\u001b[0m\u001b[1;32m    126\u001b[0m         \u001b[0mself\u001b[0m\u001b[0;34m.\u001b[0m\u001b[0mout\u001b[0m \u001b[0;34m=\u001b[0m \u001b[0msignal\u001b[0m\u001b[0;34m\u001b[0m\u001b[0m\n\u001b[1;32m    127\u001b[0m         \u001b[0;32mreturn\u001b[0m \u001b[0mself\u001b[0m\u001b[0;34m.\u001b[0m\u001b[0mout\u001b[0m\u001b[0;34m\u001b[0m\u001b[0m\n",
      "\u001b[0;32m/usr/local/lib/python2.7/site-packages/neurolab/core.pyc\u001b[0m in \u001b[0;36mstep\u001b[0;34m(self, inp)\u001b[0m\n\u001b[1;32m    232\u001b[0m         \u001b[0;32massert\u001b[0m \u001b[0mlen\u001b[0m\u001b[0;34m(\u001b[0m\u001b[0minp\u001b[0m\u001b[0;34m)\u001b[0m \u001b[0;34m==\u001b[0m \u001b[0mself\u001b[0m\u001b[0;34m.\u001b[0m\u001b[0mci\u001b[0m\u001b[0;34m\u001b[0m\u001b[0m\n\u001b[1;32m    233\u001b[0m         \u001b[0mout\u001b[0m \u001b[0;34m=\u001b[0m \u001b[0mself\u001b[0m\u001b[0;34m.\u001b[0m\u001b[0m_step\u001b[0m\u001b[0;34m(\u001b[0m\u001b[0minp\u001b[0m\u001b[0;34m)\u001b[0m\u001b[0;34m\u001b[0m\u001b[0m\n\u001b[0;32m--> 234\u001b[0;31m         \u001b[0mself\u001b[0m\u001b[0;34m.\u001b[0m\u001b[0minp\u001b[0m \u001b[0;34m=\u001b[0m \u001b[0minp\u001b[0m\u001b[0;34m\u001b[0m\u001b[0m\n\u001b[0m\u001b[1;32m    235\u001b[0m         \u001b[0mself\u001b[0m\u001b[0;34m.\u001b[0m\u001b[0mout\u001b[0m \u001b[0;34m=\u001b[0m \u001b[0mout\u001b[0m\u001b[0;34m\u001b[0m\u001b[0m\n\u001b[1;32m    236\u001b[0m \u001b[0;34m\u001b[0m\u001b[0m\n",
      "\u001b[0;31mKeyboardInterrupt\u001b[0m: "
     ]
    }
   ],
   "source": [
    "err = net.train(input, target, show=50, epochs=2000)"
   ]
  },
  {
   "cell_type": "code",
   "execution_count": 187,
   "metadata": {
    "collapsed": false
   },
   "outputs": [
    {
     "data": {
      "text/plain": [
       "[('rgb(240.0,249.0,254.0)', ['AliceBlue', '#F0F8FF']),\n",
       " ('rgb(255.0,235.0,215.0)', ['AntiqueWhite', '#FAEBD7']),\n",
       " ('rgb(-0.0,252.0,252.0)', ['Aqua', '#00FFFF']),\n",
       " ('rgb(127.0,255.0,212.0)', ['Aquamarine', '#7FFFD4']),\n",
       " ('rgb(240.0,251.0,253.0)', ['Azure', '#F0FFFF']),\n",
       " ('rgb(255.0,249.0,219.0)', ['Beige', '#F5F5DC']),\n",
       " ('rgb(254.0,228.0,196.0)', ['Bisque', '#FFE4C4']),\n",
       " ('rgb(-0.0,0.0,0.0)', ['Black', '#000000']),\n",
       " ('rgb(255.0,235.0,205.0)', ['BlanchedAlmond', '#FFEBCD']),\n",
       " ('rgb(-0.0,0.0,255.0)', ['Blue', '#0000FF']),\n",
       " ('rgb(138.0,42.0,225.0)', ['BlueViolet', '#8A2BE2']),\n",
       " ('rgb(165.0,43.0,41.0)', ['Brown', '#A52A2A']),\n",
       " ('rgb(222.0,184.0,135.0)', ['BurlyWood', '#DEB887']),\n",
       " ('rgb(95.0,158.0,160.0)', ['CadetBlue', '#5F9EA0']),\n",
       " ('rgb(253.0,254.0,1.0)', ['Chartreuse', '#7FFF00']),\n",
       " ('rgb(210.0,105.0,30.0)', ['Chocolate', '#D2691E']),\n",
       " ('rgb(255.0,128.0,80.0)', ['Coral', '#FF7F50']),\n",
       " ('rgb(100.0,149.0,237.0)', ['CornflowerBlue', '#6495ED']),\n",
       " ('rgb(255.0,251.0,219.0)', ['Cornsilk', '#FFF8DC']),\n",
       " ('rgb(220.0,19.0,61.0)', ['Crimson', '#DC143C']),\n",
       " ('rgb(0.0,255.0,255.0)', ['Cyan', '#00FFFF']),\n",
       " ('rgb(0.0,0.0,139.0)', ['DarkBlue', '#00008B']),\n",
       " ('rgb(0.0,139.0,139.0)', ['DarkCyan', '#008B8B']),\n",
       " ('rgb(184.0,134.0,11.0)', ['DarkGoldenRod', '#B8860B']),\n",
       " ('rgb(169.0,169.0,169.0)', ['DarkGray', '#A9A9A9']),\n",
       " ('rgb(170.0,168.0,169.0)', ['DarkGrey', '#A9A9A9']),\n",
       " ('rgb(-0.0,100.0,-0.0)', ['DarkGreen', '#006400']),\n",
       " ('rgb(189.0,184.0,107.0)', ['DarkKhaki', '#BDB76B']),\n",
       " ('rgb(139.0,0.0,139.0)', ['DarkMagenta', '#8B008B']),\n",
       " ('rgb(85.0,107.0,47.0)', ['DarkOliveGreen', '#556B2F']),\n",
       " ('rgb(251.0,140.0,-0.0)', ['Darkorange', '#FF8C00']),\n",
       " ('rgb(154.0,49.0,206.0)', ['DarkOrchid', '#9932CC']),\n",
       " ('rgb(139.0,0.0,0.0)', ['DarkRed', '#8B0000']),\n",
       " ('rgb(233.0,150.0,122.0)', ['DarkSalmon', '#E9967A']),\n",
       " ('rgb(143.0,188.0,143.0)', ['DarkSeaGreen', '#8FBC8F']),\n",
       " ('rgb(72.0,61.0,139.0)', ['DarkSlateBlue', '#483D8B']),\n",
       " ('rgb(43.0,79.0,78.0)', ['DarkSlateGray', '#2F4F4F']),\n",
       " ('rgb(45.0,79.0,77.0)', ['DarkSlateGrey', '#2F4F4F']),\n",
       " ('rgb(-0.0,206.0,209.0)', ['DarkTurquoise', '#00CED1']),\n",
       " ('rgb(148.0,0.0,211.0)', ['DarkViolet', '#9400D3']),\n",
       " ('rgb(255.0,20.0,147.0)', ['DeepPink', '#FF1493']),\n",
       " ('rgb(-0.0,192.0,253.0)', ['DeepSkyBlue', '#00BFFF']),\n",
       " ('rgb(105.0,106.0,105.0)', ['DimGray', '#696969']),\n",
       " ('rgb(105.0,104.0,105.0)', ['DimGrey', '#696969']),\n",
       " ('rgb(30.0,144.0,255.0)', ['DodgerBlue', '#1E90FF']),\n",
       " ('rgb(178.0,34.0,34.0)', ['FireBrick', '#B22222']),\n",
       " ('rgb(255.0,249.0,255.0)', ['FloralWhite', '#FFFAF0']),\n",
       " ('rgb(34.0,139.0,34.0)', ['ForestGreen', '#228B22']),\n",
       " ('rgb(255.0,-0.0,255.0)', ['Fuchsia', '#FF00FF']),\n",
       " ('rgb(222.0,218.0,222.0)', ['Gainsboro', '#DCDCDC']),\n",
       " ('rgb(249.0,249.0,253.0)', ['GhostWhite', '#F8F8FF']),\n",
       " ('rgb(254.0,215.0,0.0)', ['Gold', '#FFD700']),\n",
       " ('rgb(218.0,166.0,32.0)', ['GoldenRod', '#DAA520']),\n",
       " ('rgb(130.0,130.0,128.0)', ['Gray', '#808080']),\n",
       " ('rgb(126.0,126.0,128.0)', ['Grey', '#808080']),\n",
       " ('rgb(0.0,128.0,0.0)', ['Green', '#008000']),\n",
       " ('rgb(255.0,251.0,47.0)', ['GreenYellow', '#ADFF2F']),\n",
       " ('rgb(240.0,247.0,253.0)', ['HoneyDew', '#F0FFF0']),\n",
       " ('rgb(255.0,105.0,180.0)', ['HotPink', '#FF69B4']),\n",
       " ('rgb(255.0,91.0,92.0)', ['IndianRed', '#CD5C5C']),\n",
       " ('rgb(75.0,-0.0,130.0)', ['Indigo', '#4B0082']),\n",
       " ('rgb(255.0,252.0,241.0)', ['Ivory', '#FFFFF0']),\n",
       " ('rgb(240.0,254.0,140.0)', ['Khaki', '#F0E68C']),\n",
       " ('rgb(227.0,247.0,253.0)', ['Lavender', '#E6E6FA']),\n",
       " ('rgb(255.0,241.0,243.0)', ['LavenderBlush', '#FFF0F5']),\n",
       " ('rgb(124.0,255.0,-0.0)', ['LawnGreen', '#7CFC00']),\n",
       " ('rgb(255.0,245.0,206.0)', ['LemonChiffon', '#FFFACD']),\n",
       " ('rgb(173.0,216.0,230.0)', ['LightBlue', '#ADD8E6']),\n",
       " ('rgb(240.0,128.0,128.0)', ['LightCoral', '#F08080']),\n",
       " ('rgb(226.0,245.0,253.0)', ['LightCyan', '#E0FFFF']),\n",
       " ('rgb(255.0,252.0,210.0)', ['LightGoldenRodYellow', '#FAFAD2']),\n",
       " ('rgb(211.0,213.0,209.0)', ['LightGray', '#D3D3D3']),\n",
       " ('rgb(211.0,210.0,212.0)', ['LightGrey', '#D3D3D3']),\n",
       " ('rgb(144.0,237.0,144.0)', ['LightGreen', '#90EE90']),\n",
       " ('rgb(253.0,183.0,192.0)', ['LightPink', '#FFB6C1']),\n",
       " ('rgb(252.0,162.0,121.0)', ['LightSalmon', '#FFA07A']),\n",
       " ('rgb(32.0,178.0,170.0)', ['LightSeaGreen', '#20B2AA']),\n",
       " ('rgb(134.0,207.0,250.0)', ['LightSkyBlue', '#87CEFA']),\n",
       " ('rgb(119.0,136.0,152.0)', ['LightSlateGray', '#778899']),\n",
       " ('rgb(119.0,136.0,154.0)', ['LightSlateGrey', '#778899']),\n",
       " ('rgb(176.0,195.0,222.0)', ['LightSteelBlue', '#B0C4DE']),\n",
       " ('rgb(255.0,249.0,224.0)', ['LightYellow', '#FFFFE0']),\n",
       " ('rgb(0.0,251.0,-0.0)', ['Lime', '#00FF00']),\n",
       " ('rgb(50.0,205.0,50.0)', ['LimeGreen', '#32CD32']),\n",
       " ('rgb(255.0,245.0,231.0)', ['Linen', '#FAF0E6']),\n",
       " ('rgb(255.0,0.0,255.0)', ['Magenta', '#FF00FF']),\n",
       " ('rgb(128.0,0.0,-0.0)', ['Maroon', '#800000']),\n",
       " ('rgb(102.0,204.0,170.0)', ['MediumAquaMarine', '#66CDAA']),\n",
       " ('rgb(-0.0,0.0,205.0)', ['MediumBlue', '#0000CD']),\n",
       " ('rgb(186.0,85.0,213.0)', ['MediumOrchid', '#BA55D3']),\n",
       " ('rgb(147.0,113.0,215.0)', ['MediumPurple', '#9370D8']),\n",
       " ('rgb(60.0,179.0,113.0)', ['MediumSeaGreen', '#3CB371']),\n",
       " ('rgb(123.0,104.0,235.0)', ['MediumSlateBlue', '#7B68EE']),\n",
       " ('rgb(0.0,255.0,154.0)', ['MediumSpringGreen', '#00FA9A']),\n",
       " ('rgb(72.0,209.0,203.0)', ['MediumTurquoise', '#48D1CC']),\n",
       " ('rgb(199.0,21.0,134.0)', ['MediumVioletRed', '#C71585']),\n",
       " ('rgb(22.0,26.0,110.0)', ['MidnightBlue', '#191970']),\n",
       " ('rgb(255.0,253.0,255.0)', ['MintCream', '#F5FFFA']),\n",
       " ('rgb(255.0,229.0,225.0)', ['MistyRose', '#FFE4E1']),\n",
       " ('rgb(251.0,229.0,181.0)', ['Moccasin', '#FFE4B5']),\n",
       " ('rgb(255.0,222.0,173.0)', ['NavajoWhite', '#FFDEAD']),\n",
       " ('rgb(4.0,0,131.0)', ['Navy', '#000080']),\n",
       " ('rgb(248.0,254.0,230.0)', ['OldLace', '#FDF5E6']),\n",
       " ('rgb(128.0,128.0,0.0)', ['Olive', '#808000']),\n",
       " ('rgb(107.0,142.0,35.0)', ['OliveDrab', '#6B8E23']),\n",
       " ('rgb(255.0,165.0,0.0)', ['Orange', '#FFA500']),\n",
       " ('rgb(255.0,70.0,0.0)', ['OrangeRed', '#FF4500']),\n",
       " ('rgb(218.0,112.0,214.0)', ['Orchid', '#DA70D6']),\n",
       " ('rgb(238.0,255.0,170.0)', ['PaleGoldenRod', '#EEE8AA']),\n",
       " ('rgb(152.0,251.0,152.0)', ['PaleGreen', '#98FB98']),\n",
       " ('rgb(175.0,237.0,238.0)', ['PaleTurquoise', '#AFEEEE']),\n",
       " ('rgb(216.0,112.0,147.0)', ['PaleVioletRed', '#D87093']),\n",
       " ('rgb(255.0,239.0,213.0)', ['PapayaWhip', '#FFEFD5']),\n",
       " ('rgb(255.0,218.0,185.0)', ['PeachPuff', '#FFDAB9']),\n",
       " ('rgb(205.0,133.0,63.0)', ['Peru', '#CD853F']),\n",
       " ('rgb(254.0,192.0,202.0)', ['Pink', '#FFC0CB']),\n",
       " ('rgb(221.0,162.0,219.0)', ['Plum', '#DDA0DD']),\n",
       " ('rgb(176.0,223.0,231.0)', ['PowderBlue', '#B0E0E6']),\n",
       " ('rgb(128.0,-0.0,128.0)', ['Purple', '#800080']),\n",
       " ('rgb(255.0,-0.0,-0.0)', ['Red', '#FF0000']),\n",
       " ('rgb(188.0,143.0,143.0)', ['RosyBrown', '#BC8F8F']),\n",
       " ('rgb(65.0,104.0,225.0)', ['RoyalBlue', '#4169E1']),\n",
       " ('rgb(139.0,69.0,19.0)', ['SaddleBrown', '#8B4513']),\n",
       " ('rgb(255.0,128.0,114.0)', ['Salmon', '#FA8072']),\n",
       " ('rgb(252.0,162.0,97.0)', ['SandyBrown', '#F4A460']),\n",
       " ('rgb(42.0,139.0,84.0)', ['SeaGreen', '#2E8B57']),\n",
       " ('rgb(248.0,255.0,234.0)', ['SeaShell', '#FFF5EE']),\n",
       " ('rgb(160.0,82.0,45.0)', ['Sienna', '#A0522D']),\n",
       " ('rgb(192.0,192.0,192.0)', ['Silver', '#C0C0C0']),\n",
       " ('rgb(135.0,206.0,235.0)', ['SkyBlue', '#87CEEB']),\n",
       " ('rgb(106.0,90.0,205.0)', ['SlateBlue', '#6A5ACD']),\n",
       " ('rgb(112.0,128.0,144.0)', ['SlateGray', '#708090']),\n",
       " ('rgb(112.0,129.0,143.0)', ['SlateGrey', '#708090']),\n",
       " ('rgb(243.0,252.0,244.0)', ['Snow', '#FFFAFA']),\n",
       " ('rgb(-0.0,252.0,127.0)', ['SpringGreen', '#00FF7F']),\n",
       " ('rgb(70.0,129.0,181.0)', ['SteelBlue', '#4682B4']),\n",
       " ('rgb(210.0,180.0,140.0)', ['Tan', '#D2B48C']),\n",
       " ('rgb(9.0,128.0,135.0)', ['Teal', '#008080']),\n",
       " ('rgb(216.0,190.0,217.0)', ['Thistle', '#D8BFD8']),\n",
       " ('rgb(254.0,99.0,71.0)', ['Tomato', '#FF6347']),\n",
       " ('rgb(64.0,224.0,208.0)', ['Turquoise', '#40E0D0']),\n",
       " ('rgb(238.0,130.0,238.0)', ['Violet', '#EE82EE']),\n",
       " ('rgb(247.0,222.0,179.0)', ['Wheat', '#F5DEB3']),\n",
       " ('rgb(255.0,252.0,253.0)', ['White', '#FFFFFF']),\n",
       " ('rgb(246.0,252.0,253.0)', ['WhiteSmoke', '#F5F5F5']),\n",
       " ('rgb(255.0,255.0,0.0)', ['Yellow', '#FFFF00']),\n",
       " ('rgb(154.0,205.0,50.0)', ['YellowGreen', '#9ACD32'])]"
      ]
     },
     "execution_count": 187,
     "metadata": {},
     "output_type": "execute_result"
    }
   ],
   "source": [
    "zip([hexfromvec(c) for c in net.sim(input)], colors)"
   ]
  },
  {
   "cell_type": "code",
   "execution_count": 107,
   "metadata": {
    "collapsed": false
   },
   "outputs": [
    {
     "data": {
      "text/plain": [
       "['AliceBlue', '#F0F8FF']"
      ]
     },
     "execution_count": 107,
     "metadata": {},
     "output_type": "execute_result"
    }
   ],
   "source": [
    "net.sim([])"
   ]
  },
  {
   "cell_type": "code",
   "execution_count": 121,
   "metadata": {
    "collapsed": false
   },
   "outputs": [
    {
     "data": {
      "text/plain": [
       "array([ 0.94117647,  0.97254902,  1.        ])"
      ]
     },
     "execution_count": 121,
     "metadata": {},
     "output_type": "execute_result"
    }
   ],
   "source": [
    "target[0]"
   ]
  },
  {
   "cell_type": "code",
   "execution_count": null,
   "metadata": {
    "collapsed": true
   },
   "outputs": [],
   "source": []
  }
 ],
 "metadata": {
  "kernelspec": {
   "display_name": "Python 2",
   "language": "python",
   "name": "python2"
  },
  "language_info": {
   "codemirror_mode": {
    "name": "ipython",
    "version": 2
   },
   "file_extension": ".py",
   "mimetype": "text/x-python",
   "name": "python",
   "nbconvert_exporter": "python",
   "pygments_lexer": "ipython2",
   "version": "2.7.9"
  }
 },
 "nbformat": 4,
 "nbformat_minor": 0
}
